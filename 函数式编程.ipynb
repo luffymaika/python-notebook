{
 "cells": [
  {
   "cell_type": "markdown",
   "metadata": {},
   "source": [
    "## python基础，函数式编程\n",
    "### 1.python装饰器\n",
    " - 装饰器本质上其实一种返回函数的应用，之所以被叫做装饰器，主要是因为通过其他函数来给正在定义的函数加上一些额外操作，因此成为装饰器"
   ]
  },
  {
   "cell_type": "code",
   "execution_count": 9,
   "metadata": {},
   "outputs": [
    {
     "name": "stdout",
     "output_type": "stream",
     "text": [
      "call %s(): now\n",
      "2018-4-7\n",
      "hello call now2():\n",
      "2018-4-8:1523379547.6737359\n"
     ]
    }
   ],
   "source": [
    "import numpy as np\n",
    "import time\n",
    "\n",
    "def log(func):        ## 通过@语法，返回函数wrap\n",
    "        def wrap(*args,**kw):                   ## 此处的*args，**kw，可以接收任意的参数，方便原来的函数的使用\n",
    "                print('call %s():',func.__name__)\n",
    "                return func(*args,**kw)\n",
    "        return wrap\n",
    "\n",
    "def logmore(text):\n",
    "        def log(func):\n",
    "                def wraper(*args,**kw):\n",
    "                        print('%s call %s():'%(text,func.__name__))\n",
    "                        return func(*args,**kw)\n",
    "                return wraper\n",
    "        return log\n",
    "\n",
    "@log\n",
    "def now():\n",
    "        print('2018-4-7')\n",
    "\n",
    "@logmore('hello')\n",
    "def now2(time):\n",
    "        print('2018-4-8:'+time)\n",
    "\n",
    "if __name__==\"__main__\":\n",
    "        now()\n",
    "        a=time.time()\n",
    "        now2(str(a))\n"
   ]
  },
  {
   "cell_type": "code",
   "execution_count": null,
   "metadata": {
    "collapsed": true
   },
   "outputs": [],
   "source": []
  }
 ],
 "metadata": {
  "kernelspec": {
   "display_name": "Python 3",
   "language": "python",
   "name": "python3"
  },
  "language_info": {
   "codemirror_mode": {
    "name": "ipython",
    "version": 3
   },
   "file_extension": ".py",
   "mimetype": "text/x-python",
   "name": "python",
   "nbconvert_exporter": "python",
   "pygments_lexer": "ipython3",
   "version": "3.6.1"
  }
 },
 "nbformat": 4,
 "nbformat_minor": 2
}
